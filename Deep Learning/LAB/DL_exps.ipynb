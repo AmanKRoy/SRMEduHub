{
  "cells": [
    {
      "cell_type": "markdown",
      "metadata": {
        "id": "mm2FZsPJLHrY"
      },
      "source": [
        "#LAB 1 Apply MP neurons in binary classification problem"
      ]
    },
    {
      "cell_type": "code",
      "execution_count": 4,
      "metadata": {
        "colab": {
          "base_uri": "https://localhost:8080/"
        },
        "id": "ZFpLnlISLFPu",
        "outputId": "9ee446c5-502e-4759-aa18-a779094f6011"
      },
      "outputs": [
        {
          "output_type": "stream",
          "name": "stdout",
          "text": [
            "x1    x2    w1   w2     t     O\n",
            "0     0     1     1     2     0\n",
            "0     1     1     1     2     0\n",
            "1     0     1     1     2     0\n",
            "1     1     1     1     2     1\n"
          ]
        }
      ],
      "source": [
        "#AND GATE\n",
        "x1 = [0, 0, 1, 1]\n",
        "x2 = [0, 1, 0, 1]\n",
        "w1 = [1, 1, 1, 1]\n",
        "w2 = [1, 1, 1, 1]\n",
        "t = 2\n",
        "#output\n",
        "print(\"x1    x2    w1   w2     t     O\")\n",
        "for i in range(len(x1)):\n",
        "    if ( x1[i]*w1[i] + x2[i]*w2[i] ) >= t:\n",
        "        print(x1[i],'   ',x2[i],'   ',w1[i],'   ',w2[i],'   ',t,'   ', 1)\n",
        "    else:\n",
        "        print(x1[i],'   ',x2[i],'   ',w1[i],'   ',w2[i],'   ',t,'   ', 0)"
      ]
    },
    {
      "cell_type": "code",
      "execution_count": 5,
      "metadata": {
        "colab": {
          "base_uri": "https://localhost:8080/"
        },
        "id": "nIbkeCTEMOZF",
        "outputId": "9a389ba7-1517-47a4-d8bc-435806e9fa65"
      },
      "outputs": [
        {
          "output_type": "stream",
          "name": "stdout",
          "text": [
            "x1    x2    w1   w2     t     O\n",
            "0     0     1     1     1     0\n",
            "0     1     1     1     1     1\n",
            "1     0     1     1     1     1\n",
            "1     1     1     1     1     1\n"
          ]
        }
      ],
      "source": [
        "#OR GATE\n",
        "x1 = [0, 0, 1, 1]\n",
        "x2 = [0, 1, 0, 1]\n",
        "w1 = [1, 1, 1, 1]\n",
        "w2 = [1, 1, 1, 1]\n",
        "t = 1\n",
        "#output\n",
        "print(\"x1    x2    w1   w2     t     O\")\n",
        "for i in range(len(x1)):\n",
        "    if ( x1[i]*w1[i] + x2[i]*w2[i] ) >= t:\n",
        "        print(x1[i],'   ',x2[i],'   ',w1[i],'   ',w2[i],'   ',t,'   ', 1)\n",
        "    else:\n",
        "        print(x1[i],'   ',x2[i],'   ',w1[i],'   ',w2[i],'   ',t,'   ', 0)"
      ]
    },
    {
      "cell_type": "code",
      "execution_count": null,
      "metadata": {
        "colab": {
          "base_uri": "https://localhost:8080/"
        },
        "id": "WpCC-fVNMY8w",
        "outputId": "544f9a90-77c9-4ce4-fc4d-acbbcd8b178b"
      },
      "outputs": [
        {
          "output_type": "stream",
          "name": "stdout",
          "text": [
            "X: 0 Y: 1\n"
          ]
        }
      ],
      "source": [
        "#NOT GATE\n",
        "x = [0, 1]\n",
        "w = [-1, -1]\n",
        "t = 0\n",
        "#output\n",
        "print(\"x      w     t     O\")\n",
        "for i in range(len(x)):\n",
        "    if ( x[i]*w[i]) >= t:\n",
        "        print(x[i],'   ',w[i],'   ',t,'   ', 1)\n",
        "    else:\n",
        "        print(x[i],'   ',w[i],'   ',t,'   ', 0)"
      ]
    },
    {
      "cell_type": "markdown",
      "metadata": {
        "id": "4ITUghREV8R4"
      },
      "source": [
        "#LAB 2 Apply sigmoid function to solve classification / regression problems"
      ]
    },
    {
      "cell_type": "code",
      "execution_count": null,
      "metadata": {
        "colab": {
          "base_uri": "https://localhost:8080/"
        },
        "id": "wUYeODMtV7pM",
        "outputId": "c95faa5b-eb13-4fcc-a5e1-63dc6cc7dc91"
      },
      "outputs": [
        {
          "name": "stdout",
          "output_type": "stream",
          "text": [
            "Accuracy:  66.66666666666666\n"
          ]
        }
      ],
      "source": [
        "import numpy as np\n",
        "from sklearn.datasets import load_iris\n",
        "from sklearn.model_selection import train_test_split\n",
        "def sigmoid(x):\n",
        "  return 1/(1+np.exp(-x))\n",
        "class sigmoid_neuron:\n",
        "  def __init__(self,input):\n",
        "    self.wt=np.random.rand(input)\n",
        "    self.b=np.random.rand()\n",
        "  def forward(self,x):\n",
        "    z=np.dot(x,self.wt)+self.b\n",
        "    return sigmoid(z)\n",
        "  def backward(self,x,y_true,y_pred):\n",
        "    delta=y_true,y_pred\n",
        "    dw=np.dot(input.T,delta)\n",
        "    db=np.sum(delta)\n",
        "    return dw,db\n",
        "  def train(self,x,y_true,epochs,lr):\n",
        "    for epoch in range(epochs):\n",
        "      y_pred=self.forward\n",
        "      dw,db=self.backward(x,y_true,y_pred)\n",
        "      self.wt=lr*dw\n",
        "      self.b=lr*db\n",
        "  def predict(self,x):\n",
        "    return np.round(self.forward(x))\n",
        "iris=load_iris()\n",
        "X=iris.data[:,:2]\n",
        "Y=(iris.target!=0).astype(int)\n",
        "X_train,X_test,Y_train,Y_test=train_test_split(X,Y,test_size=0.2,random_state=42)\n",
        "input=X_train.shape[1]\n",
        "model=sigmoid_neuron(input)\n",
        "epochs=30\n",
        "lr=0.1\n",
        "y_pred=model.predict(X_test)\n",
        "accuracy=np.mean(y_pred==Y_test)\n",
        "print(\"Accuracy: \",accuracy*100)"
      ]
    },
    {
      "cell_type": "markdown",
      "metadata": {
        "id": "OTToliXpg7gg"
      },
      "source": [
        "#LAB 3 FEEDFORWARD NETWORK"
      ]
    },
    {
      "cell_type": "code",
      "execution_count": null,
      "metadata": {
        "colab": {
          "base_uri": "https://localhost:8080/"
        },
        "id": "OjLEAz-WKBg9",
        "outputId": "f9bf3c92-1f22-4b5a-a24d-7a27a2e4db36"
      },
      "outputs": [
        {
          "output_type": "stream",
          "name": "stdout",
          "text": [
            "Epoch 1/30\n",
            "4/4 [==============================] - 1s 77ms/step - loss: 1.2445 - accuracy: 0.2778 - val_loss: 1.1500 - val_accuracy: 0.4167\n",
            "Epoch 2/30\n",
            "4/4 [==============================] - 0s 13ms/step - loss: 1.1390 - accuracy: 0.3056 - val_loss: 1.0821 - val_accuracy: 0.4167\n",
            "Epoch 3/30\n",
            "4/4 [==============================] - 0s 12ms/step - loss: 1.0382 - accuracy: 0.4074 - val_loss: 1.0216 - val_accuracy: 0.4167\n",
            "Epoch 4/30\n",
            "4/4 [==============================] - 0s 12ms/step - loss: 0.9562 - accuracy: 0.7037 - val_loss: 0.9679 - val_accuracy: 0.7500\n",
            "Epoch 5/30\n",
            "4/4 [==============================] - 0s 12ms/step - loss: 0.8796 - accuracy: 0.7778 - val_loss: 0.9186 - val_accuracy: 0.8333\n",
            "Epoch 6/30\n",
            "4/4 [==============================] - 0s 12ms/step - loss: 0.8079 - accuracy: 0.8148 - val_loss: 0.8705 - val_accuracy: 0.8333\n",
            "Epoch 7/30\n",
            "4/4 [==============================] - 0s 11ms/step - loss: 0.7416 - accuracy: 0.7963 - val_loss: 0.8253 - val_accuracy: 0.8333\n",
            "Epoch 8/30\n",
            "4/4 [==============================] - 0s 15ms/step - loss: 0.6787 - accuracy: 0.8148 - val_loss: 0.7838 - val_accuracy: 0.8333\n",
            "Epoch 9/30\n",
            "4/4 [==============================] - 0s 12ms/step - loss: 0.6227 - accuracy: 0.8333 - val_loss: 0.7448 - val_accuracy: 0.7500\n",
            "Epoch 10/30\n",
            "4/4 [==============================] - 0s 20ms/step - loss: 0.5731 - accuracy: 0.8241 - val_loss: 0.7091 - val_accuracy: 0.7500\n",
            "Epoch 11/30\n",
            "4/4 [==============================] - 0s 15ms/step - loss: 0.5305 - accuracy: 0.8241 - val_loss: 0.6772 - val_accuracy: 0.7500\n",
            "Epoch 12/30\n",
            "4/4 [==============================] - 0s 12ms/step - loss: 0.4939 - accuracy: 0.8241 - val_loss: 0.6495 - val_accuracy: 0.7500\n",
            "Epoch 13/30\n",
            "4/4 [==============================] - 0s 13ms/step - loss: 0.4624 - accuracy: 0.8241 - val_loss: 0.6252 - val_accuracy: 0.7500\n",
            "Epoch 14/30\n",
            "4/4 [==============================] - 0s 12ms/step - loss: 0.4360 - accuracy: 0.8241 - val_loss: 0.6049 - val_accuracy: 0.7500\n",
            "Epoch 15/30\n",
            "4/4 [==============================] - 0s 13ms/step - loss: 0.4140 - accuracy: 0.8241 - val_loss: 0.5878 - val_accuracy: 0.7500\n",
            "Epoch 16/30\n",
            "4/4 [==============================] - 0s 12ms/step - loss: 0.3953 - accuracy: 0.8241 - val_loss: 0.5745 - val_accuracy: 0.7500\n",
            "Epoch 17/30\n",
            "4/4 [==============================] - 0s 13ms/step - loss: 0.3795 - accuracy: 0.8241 - val_loss: 0.5628 - val_accuracy: 0.7500\n",
            "Epoch 18/30\n",
            "4/4 [==============================] - 0s 13ms/step - loss: 0.3659 - accuracy: 0.8241 - val_loss: 0.5542 - val_accuracy: 0.7500\n",
            "Epoch 19/30\n",
            "4/4 [==============================] - 0s 12ms/step - loss: 0.3533 - accuracy: 0.8333 - val_loss: 0.5469 - val_accuracy: 0.8333\n",
            "Epoch 20/30\n",
            "4/4 [==============================] - 0s 18ms/step - loss: 0.3418 - accuracy: 0.8333 - val_loss: 0.5426 - val_accuracy: 0.8333\n",
            "Epoch 21/30\n",
            "4/4 [==============================] - 0s 19ms/step - loss: 0.3319 - accuracy: 0.8333 - val_loss: 0.5393 - val_accuracy: 0.8333\n",
            "Epoch 22/30\n",
            "4/4 [==============================] - 0s 23ms/step - loss: 0.3221 - accuracy: 0.8333 - val_loss: 0.5362 - val_accuracy: 0.8333\n",
            "Epoch 23/30\n",
            "4/4 [==============================] - 0s 18ms/step - loss: 0.3138 - accuracy: 0.8333 - val_loss: 0.5332 - val_accuracy: 0.8333\n",
            "Epoch 24/30\n",
            "4/4 [==============================] - 0s 24ms/step - loss: 0.3058 - accuracy: 0.8426 - val_loss: 0.5302 - val_accuracy: 0.8333\n",
            "Epoch 25/30\n",
            "4/4 [==============================] - 0s 22ms/step - loss: 0.2990 - accuracy: 0.8426 - val_loss: 0.5253 - val_accuracy: 0.9167\n",
            "Epoch 26/30\n",
            "4/4 [==============================] - 0s 16ms/step - loss: 0.2914 - accuracy: 0.8426 - val_loss: 0.5217 - val_accuracy: 0.9167\n",
            "Epoch 27/30\n",
            "4/4 [==============================] - 0s 24ms/step - loss: 0.2849 - accuracy: 0.8426 - val_loss: 0.5181 - val_accuracy: 0.9167\n",
            "Epoch 28/30\n",
            "4/4 [==============================] - 0s 16ms/step - loss: 0.2784 - accuracy: 0.8426 - val_loss: 0.5140 - val_accuracy: 0.9167\n",
            "Epoch 29/30\n",
            "4/4 [==============================] - 0s 24ms/step - loss: 0.2722 - accuracy: 0.8426 - val_loss: 0.5075 - val_accuracy: 0.9167\n",
            "Epoch 30/30\n",
            "4/4 [==============================] - 0s 22ms/step - loss: 0.2658 - accuracy: 0.8426 - val_loss: 0.5049 - val_accuracy: 0.9167\n",
            "1/1 [==============================] - 0s 34ms/step - loss: 0.2292 - accuracy: 0.9000\n",
            "Test loss: 0.2292, Accuracy: 0.9000\n"
          ]
        }
      ],
      "source": [
        "import tensorflow as tf\n",
        "from sklearn.datasets import load_iris\n",
        "from sklearn.preprocessing import StandardScaler\n",
        "from sklearn.model_selection import train_test_split\n",
        "from tensorflow.keras.layers import Dense\n",
        "from tensorflow.keras.models import Sequential\n",
        "from tensorflow.keras.utils import to_categorical\n",
        "data=load_iris()\n",
        "X=data.data\n",
        "y=data.target\n",
        "X_train,X_test,y_train,y_test=train_test_split(X,y,test_size=0.2,random_state=42)\n",
        "scaler=StandardScaler()\n",
        "X_train = scaler.fit_transform(X_train)\n",
        "X_test = scaler.transform(X_test)\n",
        "y_train = to_categorical(y_train)\n",
        "y_test = to_categorical(y_test)\n",
        "model = Sequential()\n",
        "model.add(Dense(64, activation='relu', input_dim=X_train.shape[1]))\n",
        "model.add(Dense(32, activation='relu'))\n",
        "model.add(Dense(3, activation='softmax'))\n",
        "model.compile(optimizer='adam', loss='categorical_crossentropy', metrics=['accuracy'])\n",
        "model.fit(X_train, y_train, epochs=30, batch_size=32, validation_split=0.1, verbose=1)\n",
        "loss, accuracy = model.evaluate(X_test, y_test)\n",
        "print(f'Test loss: {loss:.4f}, Accuracy: {accuracy:.4f}')"
      ]
    },
    {
      "cell_type": "markdown",
      "metadata": {
        "id": "JLsldP6PmMXX"
      },
      "source": [
        "#LAB 4 STOCHASTIC- MINI BATCH GRADIENT DESCENT"
      ]
    },
    {
      "cell_type": "code",
      "execution_count": null,
      "metadata": {
        "id": "pA2sGUO5mSQ1",
        "colab": {
          "base_uri": "https://localhost:8080/"
        },
        "outputId": "d1133e9f-5c39-46cd-b8ac-81e093e3d84f"
      },
      "outputs": [
        {
          "output_type": "stream",
          "name": "stdout",
          "text": [
            "Accuracy:  0.8947368421052632\n"
          ]
        }
      ],
      "source": [
        "import numpy as np\n",
        "from sklearn.datasets import load_breast_cancer\n",
        "from sklearn.model_selection import train_test_split\n",
        "from sklearn.preprocessing import StandardScaler\n",
        "data=load_breast_cancer()\n",
        "X=data.data\n",
        "y=data.target\n",
        "X_train,X_test,y_train,y_test=train_test_split(X,y,test_size=0.2,random_state=42)\n",
        "scaler = StandardScaler()\n",
        "X_train = scaler.fit_transform(X_train)\n",
        "X_test = scaler.transform(X_test)\n",
        "X_train = np.c_[np.ones(X_train.shape[0]), X_train]\n",
        "X_test = np.c_[np.ones(X_test.shape[0]), X_test]\n",
        "lr=0.01\n",
        "epochs=30\n",
        "batch_size=32\n",
        "num_features = X_train.shape[1]\n",
        "num_samples = X_train.shape[0]\n",
        "wt=np.random.rand(num_features)\n",
        "for epoch in range(epochs):\n",
        "  for batch_start in range(0, num_samples, batch_size):\n",
        "    batch_end= min(batch_start + batch_size, num_samples)\n",
        "    X_batch = X_train[batch_start:batch_end]\n",
        "    y_batch = y_train[batch_start:batch_end]\n",
        "    y_pred=np.dot(X_batch, wt)\n",
        "    gradient = np.dot(X_batch.T, y_pred - y_batch) / batch_size\n",
        "    wt -= lr*gradient\n",
        "y_pred_test = np.dot(X_test, wt)\n",
        "y_pred_test[y_pred_test >= 0.5] = 1\n",
        "y_pred_test[y_pred_test < 0.5] = 0\n",
        "accuracy = np.mean(y_pred_test == y_test)\n",
        "print(\"Accuracy: \",accuracy)"
      ]
    },
    {
      "cell_type": "markdown",
      "source": [
        "# Implementation of gradient descent in linear regression"
      ],
      "metadata": {
        "id": "b2niSx2oUyL5"
      }
    },
    {
      "cell_type": "code",
      "source": [
        "# Implementation of gradient descent in linear regression\n",
        "import numpy as np\n",
        "import matplotlib.pyplot as plt\n",
        "\n",
        "\n",
        "class Linear_Regression:\n",
        "\tdef __init__(self, X, Y):\n",
        "\t\tself.X = X\n",
        "\t\tself.Y = Y\n",
        "\t\tself.b = [0, 0]\n",
        "\n",
        "\tdef update_coeffs(self, learning_rate):\n",
        "\t\tY_pred = self.predict()\n",
        "\t\tY = self.Y\n",
        "\t\tm = len(Y)\n",
        "\t\tself.b[0] = self.b[0] - (learning_rate * ((1/m) *\n",
        "\t\t\t\t\t\t\t\t\t\t\t\tnp.sum(Y_pred - Y)))\n",
        "\n",
        "\t\tself.b[1] = self.b[1] - (learning_rate * ((1/m) *\n",
        "\t\t\t\t\t\t\t\t\t\t\t\tnp.sum((Y_pred - Y) * self.X)))\n",
        "\n",
        "\tdef predict(self, X=[]):\n",
        "\t\tY_pred = np.array([])\n",
        "\t\tif not X:\n",
        "\t\t\tX = self.X\n",
        "\t\tb = self.b\n",
        "\t\tfor x in X:\n",
        "\t\t\tY_pred = np.append(Y_pred, b[0] + (b[1] * x))\n",
        "\n",
        "\t\treturn Y_pred\n",
        "\n",
        "\tdef get_current_accuracy(self, Y_pred):\n",
        "\t\tp, e = Y_pred, self.Y\n",
        "\t\tn = len(Y_pred)\n",
        "\t\treturn 1-sum(\n",
        "\t\t\t[\n",
        "\t\t\t\tabs(p[i]-e[i])/e[i]\n",
        "\t\t\t\tfor i in range(n)\n",
        "\t\t\t\tif e[i] != 0]\n",
        "\t\t)/n\n",
        "\t# def predict(self, b, yi):\n",
        "\n",
        "\tdef compute_cost(self, Y_pred):\n",
        "\t\tm = len(self.Y)\n",
        "\t\tJ = (1 / 2*m) * (np.sum(Y_pred - self.Y)**2)\n",
        "\t\treturn J\n",
        "\n",
        "\tdef plot_best_fit(self, Y_pred, fig):\n",
        "\t\tf = plt.figure(fig)\n",
        "\t\tplt.scatter(self.X, self.Y, color='b')\n",
        "\t\tplt.plot(self.X, Y_pred, color='g')\n",
        "\t\tf.show()\n",
        "\n",
        "\n",
        "def main():\n",
        "\tX = np.array([i for i in range(11)])\n",
        "\tY = np.array([2*i for i in range(11)])\n",
        "\n",
        "\tregressor = Linear_Regression(X, Y)\n",
        "\n",
        "\titerations = 0\n",
        "\tsteps = 100\n",
        "\tlearning_rate = 0.01\n",
        "\tcosts = []\n",
        "\n",
        "\t# original best-fit line\n",
        "\tY_pred = regressor.predict()\n",
        "\tregressor.plot_best_fit(Y_pred, 'Initial Best Fit Line')\n",
        "\n",
        "\twhile 1:\n",
        "\t\tY_pred = regressor.predict()\n",
        "\t\tcost = regressor.compute_cost(Y_pred)\n",
        "\t\tcosts.append(cost)\n",
        "\t\tregressor.update_coeffs(learning_rate)\n",
        "\n",
        "\t\titerations += 1\n",
        "\t\tif iterations % steps == 0:\n",
        "\t\t\tprint(iterations, \"epochs elapsed\")\n",
        "\t\t\tprint(\"Current accuracy is :\",\n",
        "\t\t\t\tregressor.get_current_accuracy(Y_pred))\n",
        "\n",
        "\t\t\tstop = input(\"Do you want to stop (y/*)??\")\n",
        "\t\t\tif stop == \"y\":\n",
        "\t\t\t\tbreak\n",
        "\n",
        "\t# final best-fit line\n",
        "\tregressor.plot_best_fit(Y_pred, 'Final Best Fit Line')\n",
        "\n",
        "\t# plot to verify cost function decreases\n",
        "\th = plt.figure('Verification')\n",
        "\tplt.plot(range(iterations), costs, color='b')\n",
        "\th.show()\n",
        "\n",
        "\t# if user wants to predict using the regressor:\n",
        "\tregressor.predict([i for i in range(10)])\n",
        "\n",
        "\n",
        "if __name__ == '__main__':\n",
        "\tmain()\n",
        "\n"
      ],
      "metadata": {
        "id": "qU3imjgPUxR7"
      },
      "execution_count": null,
      "outputs": []
    },
    {
      "cell_type": "markdown",
      "source": [
        "#LAB 6 REGULARIZATION/NN OPTIMIZATION"
      ],
      "metadata": {
        "id": "d9WuvUerzOtC"
      }
    },
    {
      "cell_type": "code",
      "source": [
        "import numpy as np\n",
        "import matplotlib.pyplot as plt\n",
        "import tensorflow as tf\n",
        "import tensorflow_datasets as tfds\n",
        "from sklearn.datasets import fetch_openml\n",
        "from sklearn.model_selection import train_test_split\n",
        "\n",
        "# Load the Binary Alpha Digits dataset\n",
        "data, info = tfds.load(\"binary_alpha_digits\", split = \"train\", with_info=True)\n",
        "samples = data.take(5)\n",
        "tfds.show_examples(samples, info)\n",
        "\n",
        "\n",
        "# Extract data and labels\n",
        "X = data\n",
        "y = info\n",
        "\n",
        "# Split the dataset into training and testing sets\n",
        "X_train,y_train = tfds.as_numpy(tfds.load(\"binary_alpha_digits\", split = \"train[:80%]\", batch_size=-1, as_supervised=True))\n",
        "X_test,y_test =tfds.as_numpy(tfds.load(\"binary_alpha_digits\", split = \"train[80%:]\", batch_size=-1,as_supervised=True))\n",
        "print(X_train.shape)\n",
        "print(X_test.shape)\n",
        "print(y_train.shape)\n",
        "print(y_test.shape)\n",
        "\n",
        "\n",
        "# Define a neural network model with L2 regularization, dropout, and early stopping\n",
        "model = tf.keras.models.Sequential([\n",
        "\n",
        "    tf.keras.layers.Conv2D(32,(3,3),padding = \"same\", input_shape = (20,16,1),activation = \"relu\"),\n",
        "    tf.keras.layers.Conv2D(32,(3,3),activation=\"relu\"),\n",
        "    tf.keras.layers.MaxPool2D(),\n",
        "    tf.keras.layers.Dropout(0.2),\n",
        "\n",
        "    tf.keras.layers.Conv2D(64,(3,3),padding = \"same\",activation = \"relu\"),\n",
        "    tf.keras.layers.Conv2D(64,(3,3),activation=\"relu\"),\n",
        "    tf.keras.layers.MaxPool2D(),\n",
        "    tf.keras.layers.Dropout(0.2),\n",
        "\n",
        "    tf.keras.layers.Flatten(),\n",
        "    tf.keras.layers.Dense(200, activation = \"relu\"),\n",
        "    tf.keras.layers.Dense(36, activation = \"softmax\")\n",
        "\n",
        "])\n",
        "\n",
        "# Compile the model\n",
        "model.compile(optimizer='adam',\n",
        "              loss='sparse_categorical_crossentropy',\n",
        "              metrics=['accuracy'])\n",
        "\n",
        "# Data augmentation using TensorFlow's ImageDataGenerator\n",
        "datagen = tf.keras.preprocessing.image.ImageDataGenerator(\n",
        "    rotation_range=20,\n",
        "    width_shift_range=0.2,\n",
        "    height_shift_range=0.2,\n",
        "    horizontal_flip=True\n",
        ")\n",
        "\n",
        "# Define early stopping callback\n",
        "early_stopping = tf.keras.callbacks.EarlyStopping(\n",
        "    monitor='val_loss',\n",
        "    patience=5,\n",
        "    restore_best_weights=True\n",
        ")\n",
        "\n",
        "# Create a data generator for training\n",
        "train_datagen = datagen.flow(X_train, y_train, batch_size=32)\n",
        "\n",
        "# Fit the model with data augmentation and early stopping\n",
        "history = model.fit(train_datagen,\n",
        "                    validation_data=(X_test, y_test),\n",
        "                    epochs=50,\n",
        "                    callbacks=[early_stopping])\n",
        "\n",
        "\n",
        "# Evaluate the model on the test data\n",
        "test_loss, test_accuracy = model.evaluate(X_test, y_test)\n",
        "\n",
        "print(f'Test accuracy: {test_accuracy * 100:.2f}%')\n",
        "\n",
        "# Plot training and validation loss\n",
        "plt.plot(history.history['loss'], label='Training Loss')\n",
        "plt.plot(history.history['val_loss'], label='Validation Loss')\n",
        "plt.xlabel('Epoch')\n",
        "plt.ylabel('Loss')\n",
        "plt.legend()\n",
        "plt.show()"
      ],
      "metadata": {
        "id": "B36TiEoLpeE8",
        "colab": {
          "base_uri": "https://localhost:8080/",
          "height": 1000
        },
        "outputId": "65037390-1713-4d08-9e02-f3babc06b518"
      },
      "execution_count": 7,
      "outputs": [
        {
          "output_type": "display_data",
          "data": {
            "text/plain": [
              "<Figure size 900x900 with 5 Axes>"
            ],
            "image/png": "[encoded data removed]"
          },
          "metadata": {}
        },
        {
          "output_type": "stream",
          "name": "stdout",
          "text": [
            "(1123, 20, 16, 1)\n",
            "(281, 20, 16, 1)\n",
            "(1123,)\n",
            "(281,)\n",
            "Epoch 1/50\n",
            "36/36 [==============================] - 3s 51ms/step - loss: 3.5842 - accuracy: 0.0392 - val_loss: 3.5810 - val_accuracy: 0.0178\n",
            "Epoch 2/50\n",
            "36/36 [==============================] - 2s 60ms/step - loss: 3.4942 - accuracy: 0.0677 - val_loss: 3.1593 - val_accuracy: 0.1495\n",
            "Epoch 3/50\n",
            "36/36 [==============================] - 3s 76ms/step - loss: 3.1816 - accuracy: 0.1113 - val_loss: 2.6216 - val_accuracy: 0.2491\n",
            "Epoch 4/50\n",
            "36/36 [==============================] - 2s 44ms/step - loss: 2.8885 - accuracy: 0.1656 - val_loss: 2.3200 - val_accuracy: 0.2883\n",
            "Epoch 5/50\n",
            "36/36 [==============================] - 2s 45ms/step - loss: 2.7303 - accuracy: 0.1995 - val_loss: 2.1234 - val_accuracy: 0.3665\n",
            "Epoch 6/50\n",
            "36/36 [==============================] - 2s 45ms/step - loss: 2.5599 - accuracy: 0.2378 - val_loss: 2.0319 - val_accuracy: 0.3559\n",
            "Epoch 7/50\n",
            "36/36 [==============================] - 2s 42ms/step - loss: 2.4724 - accuracy: 0.2520 - val_loss: 1.7629 - val_accuracy: 0.4199\n",
            "Epoch 8/50\n",
            "36/36 [==============================] - 3s 78ms/step - loss: 2.3326 - accuracy: 0.3019 - val_loss: 1.7461 - val_accuracy: 0.4947\n",
            "Epoch 9/50\n",
            "36/36 [==============================] - 2s 59ms/step - loss: 2.2034 - accuracy: 0.3304 - val_loss: 1.4505 - val_accuracy: 0.5907\n",
            "Epoch 10/50\n",
            "36/36 [==============================] - 1s 40ms/step - loss: 2.1229 - accuracy: 0.3526 - val_loss: 1.5648 - val_accuracy: 0.4662\n",
            "Epoch 11/50\n",
            "36/36 [==============================] - 2s 68ms/step - loss: 2.1460 - accuracy: 0.3473 - val_loss: 1.3418 - val_accuracy: 0.5623\n",
            "Epoch 12/50\n",
            "36/36 [==============================] - 2s 45ms/step - loss: 1.9527 - accuracy: 0.3963 - val_loss: 1.6272 - val_accuracy: 0.4128\n",
            "Epoch 13/50\n",
            "36/36 [==============================] - 2s 42ms/step - loss: 1.9923 - accuracy: 0.3963 - val_loss: 1.2327 - val_accuracy: 0.5872\n",
            "Epoch 14/50\n",
            "36/36 [==============================] - 3s 88ms/step - loss: 1.9028 - accuracy: 0.3972 - val_loss: 1.2134 - val_accuracy: 0.5979\n",
            "Epoch 15/50\n",
            "36/36 [==============================] - 2s 42ms/step - loss: 1.8234 - accuracy: 0.4052 - val_loss: 1.2895 - val_accuracy: 0.5730\n",
            "Epoch 16/50\n",
            "36/36 [==============================] - 2s 42ms/step - loss: 1.7503 - accuracy: 0.4470 - val_loss: 1.1919 - val_accuracy: 0.6085\n",
            "Epoch 17/50\n",
            "36/36 [==============================] - 2s 46ms/step - loss: 1.7636 - accuracy: 0.4470 - val_loss: 1.1294 - val_accuracy: 0.6157\n",
            "Epoch 18/50\n",
            "36/36 [==============================] - 2s 44ms/step - loss: 1.7306 - accuracy: 0.4684 - val_loss: 1.1931 - val_accuracy: 0.5801\n",
            "Epoch 19/50\n",
            "36/36 [==============================] - 3s 77ms/step - loss: 1.6713 - accuracy: 0.4684 - val_loss: 1.5200 - val_accuracy: 0.4733\n",
            "Epoch 20/50\n",
            "36/36 [==============================] - 2s 63ms/step - loss: 1.7060 - accuracy: 0.4639 - val_loss: 1.1003 - val_accuracy: 0.6263\n",
            "Epoch 21/50\n",
            "36/36 [==============================] - 2s 46ms/step - loss: 1.5762 - accuracy: 0.4969 - val_loss: 1.1683 - val_accuracy: 0.5907\n",
            "Epoch 22/50\n",
            "36/36 [==============================] - 2s 44ms/step - loss: 1.6137 - accuracy: 0.4675 - val_loss: 1.0809 - val_accuracy: 0.6263\n",
            "Epoch 23/50\n",
            "36/36 [==============================] - 2s 44ms/step - loss: 1.6441 - accuracy: 0.4746 - val_loss: 1.0433 - val_accuracy: 0.6263\n",
            "Epoch 24/50\n",
            "36/36 [==============================] - 2s 42ms/step - loss: 1.5285 - accuracy: 0.5085 - val_loss: 0.9384 - val_accuracy: 0.6726\n",
            "Epoch 25/50\n",
            "36/36 [==============================] - 3s 78ms/step - loss: 1.5208 - accuracy: 0.5049 - val_loss: 1.0847 - val_accuracy: 0.6192\n",
            "Epoch 26/50\n",
            "36/36 [==============================] - 2s 45ms/step - loss: 1.5340 - accuracy: 0.5049 - val_loss: 1.1351 - val_accuracy: 0.6335\n",
            "Epoch 27/50\n",
            "36/36 [==============================] - 2s 47ms/step - loss: 1.4947 - accuracy: 0.5183 - val_loss: 0.9498 - val_accuracy: 0.6762\n",
            "Epoch 28/50\n",
            "36/36 [==============================] - 2s 44ms/step - loss: 1.4336 - accuracy: 0.5414 - val_loss: 1.0087 - val_accuracy: 0.6477\n",
            "Epoch 29/50\n",
            "36/36 [==============================] - 2s 60ms/step - loss: 1.4413 - accuracy: 0.5280 - val_loss: 0.9643 - val_accuracy: 0.6690\n",
            "9/9 [==============================] - 0s 17ms/step - loss: 0.9384 - accuracy: 0.6726\n",
            "Test accuracy: 67.26%\n"
          ]
        },
        {
          "output_type": "display_data",
          "data": {
            "text/plain": [
              "<Figure size 640x480 with 1 Axes>"
            ],
            "image/png": "[encoded data removed]"
          },
          "metadata": {}
        }
      ]
    },
    {
      "cell_type": "markdown",
      "source": [
        "#LAB 7 SKIPGRRAM"
      ],
      "metadata": {
        "id": "kfV5L2EqVIEA"
      }
    },
    {
      "cell_type": "code",
      "source": [
        "import torch\n",
        "import torch.nn as nn\n",
        "import torch.nn.functional as F\n",
        "import torch.optim as optim\n",
        "from torch.autograd import Variable\n",
        "import numpy as np\n",
        "\n",
        "\n",
        "corpus = [\n",
        "    'he is a king',\n",
        "    'she is a queen',\n",
        "    'he is a man',\n",
        "    'she is a woman',\n",
        "    'warsaw is poland capital',\n",
        "    'berlin is germany capital',\n",
        "    'paris is france capital',\n",
        "]\n",
        "\n",
        "# Tokenize the corpus\n",
        "def tokenize_corpus(corpus):\n",
        "    tokens = [x.split() for x in corpus]\n",
        "    return tokens\n",
        "\n",
        "tokenized_corpus = tokenize_corpus(corpus)\n",
        "\n",
        "vocabulary = []\n",
        "for sentence in tokenized_corpus:\n",
        "    for token in sentence:\n",
        "        if token not in vocabulary:\n",
        "            vocabulary.append(token)\n",
        "\n",
        "# Create two dictionaries for mapping between word and index\n",
        "word_to_idx = {word: i for i, word in enumerate(vocabulary)}\n",
        "idx_to_word = {i: word for i, word in enumerate(vocabulary)}\n",
        "\n",
        "vocabulary_size = len(vocabulary)\n",
        "\n",
        "\n",
        "\n",
        "window_size = 2 # context_size\n",
        "idx_pairs = []\n",
        "\n",
        "# for each sentence\n",
        "for sentence in tokenized_corpus:\n",
        "    indices = [word_to_idx[w] for w in sentence]\n",
        "    # treat each word as a \"center word\"\n",
        "    for center_word_pos in range(len(indices)):\n",
        "        # window position based on the given window size\n",
        "        for w in range(-window_size, window_size + 1):\n",
        "            context_word_pos = center_word_pos + w\n",
        "            if context_word_pos < 0 or context_word_pos >= len(indices) or center_word_pos == context_word_pos:\n",
        "                continue\n",
        "            context_word_idx = indices[context_word_pos]\n",
        "            # keep an array of pairs of <center_word_idx, context_word_idx>\n",
        "            idx_pairs.append((indices[center_word_pos], context_word_idx))\n",
        "\n",
        "            # With each word as a \"center word\", check the context word positions\n",
        "\n",
        "idx_pairs = np.array(idx_pairs)\n",
        "\n",
        "\n",
        "# Center word with one-hot encoding\n",
        "def get_input_layer(word_idx):\n",
        "    x = torch.zeros(vocabulary_size).float()\n",
        "    x[word_idx] = 1.0\n",
        "    return x\n",
        "\n",
        "# hidden layer\n",
        "embedding_dim = 10\n",
        "W1 = Variable(torch.randn(embedding_dim, vocabulary_size).float(), requires_grad=True)\n",
        "W2 = Variable(torch.randn(vocabulary_size, embedding_dim).float(), requires_grad=True)\n",
        "epoch = 200\n",
        "lr = 0.001\n",
        "\n",
        "for i in range(epoch):\n",
        "    loss_val = 0\n",
        "    for data, target in idx_pairs:\n",
        "        x = Variable(get_input_layer(data).float())\n",
        "        y_true = Variable(torch.from_numpy(np.array([target])).long())\n",
        "\n",
        "        z1 = torch.matmul(W1, x)\n",
        "        z2 = torch.matmul(W2, z1)\n",
        "\n",
        "        # On top of the hidden layer, use \"softmax layer\"\n",
        "        log_softmax = F.log_softmax(z2, dim=0)\n",
        "\n",
        "        loss = F.nll_loss(log_softmax.view(1,-1), y_true)\n",
        "        loss_val += loss.item()\n",
        "        # Backpropagation\n",
        "        loss.backward()\n",
        "\n",
        "        W1.data -= lr * W1.grad.data\n",
        "        W2.data -= lr * W2.grad.data\n",
        "\n",
        "        W1.grad.data.zero_()\n",
        "        W2.grad.data.zero_()\n",
        "   # Get user input word\n",
        "user_word = input(\"Enter a word: \")\n",
        "\n",
        "# Find the position(s) of the user input word in the tokenized corpus\n",
        "user_pos = [i for i, sentence in enumerate(tokenized_corpus) if user_word in sentence]\n",
        "\n",
        "# Get the index of the user input word in the vocabulary\n",
        "user_idx = word_to_idx[user_word]\n",
        "\n",
        "# Print the range of words before and after the user input word\n",
        "for pos in user_pos:\n",
        "    before = [tokenized_corpus[pos][i] for i in range(max(0, user_idx-2), user_idx)]\n",
        "    after = [tokenized_corpus[pos][i] for i in range(user_idx+1, min(len(tokenized_corpus[pos]), user_idx+3))]\n",
        "    print(before, user_word, after)\n",
        "\n"
      ],
      "metadata": {
        "colab": {
          "base_uri": "https://localhost:8080/"
        },
        "id": "dALxkmWEU9zg",
        "outputId": "4e139130-7367-4051-aead-a6309dfb17c9"
      },
      "execution_count": 8,
      "outputs": [
        {
          "output_type": "stream",
          "name": "stdout",
          "text": [
            "Enter a word: is\n",
            "['he'] is ['a', 'king']\n",
            "['she'] is ['a', 'queen']\n",
            "['he'] is ['a', 'man']\n",
            "['she'] is ['a', 'woman']\n",
            "['warsaw'] is ['poland', 'capital']\n",
            "['berlin'] is ['germany', 'capital']\n",
            "['paris'] is ['france', 'capital']\n"
          ]
        }
      ]
    },
    {
      "cell_type": "markdown",
      "source": [
        "# EXP 8 lenet"
      ],
      "metadata": {
        "id": "ewY1AbCEVbwh"
      }
    },
    {
      "cell_type": "code",
      "source": [
        "import torch\n",
        "import torch.nn as nn\n",
        "import torchvision\n",
        "import torchvision.transforms as transforms\n",
        "\n",
        "batch_size = 64\n",
        "num_classes = 10\n",
        "learning_rate = 0.001\n",
        "num_epochs = 5\n",
        "\n",
        "device = torch.device('cuda' if torch.cuda.is_available() else 'cpu')\n",
        "train_dataset = torchvision.datasets.MNIST(root = './data',\n",
        "                                           train = True,\n",
        "                                           transform = transforms.Compose([\n",
        "                                                  transforms.Resize((32,32)),\n",
        "                                                  transforms.ToTensor(),\n",
        "                                                  transforms.Normalize(mean = (0.1307,), std = (0.3081,))]),\n",
        "                                           download = True)\n",
        "\n",
        "\n",
        "test_dataset = torchvision.datasets.MNIST(root = './data',\n",
        "                                          train = False,\n",
        "                                          transform = transforms.Compose([\n",
        "                                                  transforms.Resize((32,32)),\n",
        "                                                  transforms.ToTensor(),\n",
        "                                                  transforms.Normalize(mean = (0.1325,), std = (0.3105,))]),\n",
        "                                          download=True)\n",
        "\n",
        "\n",
        "train_loader = torch.utils.data.DataLoader(dataset = train_dataset,\n",
        "                                           batch_size = batch_size,\n",
        "                                           shuffle = True)\n",
        "\n",
        "\n",
        "test_loader = torch.utils.data.DataLoader(dataset = test_dataset,\n",
        "                                           batch_size = batch_size,\n",
        "                                           shuffle = True)\n",
        "\n",
        "class LeNet5(nn.Module):\n",
        "    def __init__(self, num_classes):\n",
        "        super(LeNet5, self).__init__() # fix here\n",
        "        self.layer1 = nn.Sequential(\n",
        "            nn.Conv2d(1, 6, kernel_size=5, stride=1, padding=0),\n",
        "            nn.BatchNorm2d(6),\n",
        "            nn.ReLU(),\n",
        "            nn.MaxPool2d(kernel_size=2, stride=2))\n",
        "        self.layer2 = nn.Sequential(\n",
        "            nn.Conv2d(6, 16, kernel_size=5, stride=1, padding=0),\n",
        "            nn.BatchNorm2d(16),\n",
        "            nn.ReLU(),\n",
        "            nn.MaxPool2d(kernel_size=2, stride=2))\n",
        "        self.fc = nn.Linear(400, 120)\n",
        "        self.relu = nn.ReLU()\n",
        "        self.fc1 = nn.Linear(120, 84)\n",
        "        self.relu1 = nn.ReLU()\n",
        "        self.fc2 = nn.Linear(84, num_classes)\n",
        "\n",
        "    def forward(self, x):\n",
        "        out = self.layer1(x)\n",
        "        out = self.layer2(out)\n",
        "        out = out.reshape(out.size(0), -1)\n",
        "        out = self.fc(out)\n",
        "        out = self.relu(out)\n",
        "        out = self.fc1(out)\n",
        "        out = self.relu1(out)\n",
        "        out = self.fc2(out)\n",
        "        return out\n",
        "\n",
        "model = LeNet5(num_classes).to(device)\n",
        "\n",
        "optimizer = torch.optim.Adam(model.parameters(), lr=learning_rate)\n",
        "\n",
        "total_step = len(train_loader)\n",
        "total_step = len(train_loader)\n",
        "for epoch in range(num_epochs):\n",
        "    for i, (images, labels) in enumerate(train_loader):\n",
        "        images = images.to(device)\n",
        "        labels = labels.to(device)\n",
        "\n",
        "        outputs = model(images)\n",
        "        loss = cost(outputs, labels)\n",
        "\n",
        "        optimizer.zero_grad()\n",
        "        loss.backward()\n",
        "        optimizer.step()\n",
        "\n",
        "with torch.no_grad():\n",
        "    correct = 0\n",
        "    total = 0\n",
        "    for images, labels in test_loader:\n",
        "        images = images.to(device)\n",
        "        labels = labels.to(device)\n",
        "        outputs = model(images)\n",
        "        _, predicted = torch.max(outputs.data, 1)\n",
        "        total += labels.size(0)\n",
        "        correct += (predicted == labels).sum().item()\n",
        "\n",
        "    print('Accuracy of the network on the 10000 test images: {} %'.format(100 * correct / total))"
      ],
      "metadata": {
        "colab": {
          "base_uri": "https://localhost:8080/"
        },
        "id": "p2MYrbGQVOag",
        "outputId": "9c3f2a6d-e213-4992-c35c-ab152ad4b792"
      },
      "execution_count": 11,
      "outputs": [
        {
          "output_type": "stream",
          "name": "stdout",
          "text": [
            "Accuracy of the network on the 10000 test images: 98.75 %\n"
          ]
        }
      ]
    },
    {
      "cell_type": "markdown",
      "source": [
        "#lab 10 VGG16"
      ],
      "metadata": {
        "id": "Nd9nERdPXQX1"
      }
    },
    {
      "cell_type": "code",
      "source": [
        "import tensorflow as tf\n",
        "from tensorflow.keras.utils import to_categorical\n",
        "from tensorflow.keras.applications.vgg16 import VGG16\n",
        "from tensorflow.keras.applications.vgg16 import preprocess_input\n",
        "import matplotlib.pyplot as plt\n",
        "## Loading images and labels\n",
        "(train_ds, train_labels), (test_ds, test_labels) = tfds.load(\"tf_flowers\",split=[\"train[:70%]\", \"train[:30%]\"],batch_size=-1,as_supervised=True)\n",
        "\n",
        "## Resizing images\n",
        "train_ds = tf.image.resize(train_ds, (150, 150))\n",
        "test_ds = tf.image.resize(test_ds, (150, 150))\n",
        "\n",
        "## Transforming labels to correct format\n",
        "train_labels = to_categorical(train_labels, num_classes=5)\n",
        "test_labels = to_categorical(test_labels, num_classes=5)\n",
        "\n",
        "base_model = VGG16(weights=\"imagenet\", include_top=False, input_shape=train_ds[0].shape)\n",
        "base_model.trainable = False ## Not trainable weights\n",
        "\n",
        "## Preprocessing input\n",
        "train_ds = preprocess_input(train_ds)\n",
        "test_ds = preprocess_input(test_ds)\n",
        "\n",
        "base_model.summary()\n",
        "\n",
        "from tensorflow.keras import layers, models\n",
        "\n",
        "flatten_layer = layers.Flatten()\n",
        "dense_layer_1 = layers.Dense(50, activation='relu')\n",
        "dense_layer_2 = layers.Dense(20, activation='relu')\n",
        "prediction_layer = layers.Dense(5, activation='softmax')\n",
        "\n",
        "\n",
        "model = models.Sequential([\n",
        "    base_model,\n",
        "    flatten_layer,\n",
        "    dense_layer_1,\n",
        "    dense_layer_2,\n",
        "    prediction_layer\n",
        "])\n",
        "\n",
        "from tensorflow.keras.callbacks import EarlyStopping\n",
        "\n",
        "model.compile(\n",
        "    optimizer='adam',\n",
        "    loss='categorical_crossentropy',\n",
        "    metrics=['accuracy'],\n",
        ")\n",
        "\n",
        "\n",
        "es = EarlyStopping(monitor='val_accuracy', mode='max', patience=5,  restore_best_weights=True)\n",
        "\n",
        "model.fit(train_ds, train_labels, epochs=2, validation_split=0.2, batch_size=32, callbacks=[es])\n",
        "\n",
        "history = model.fit(train_ds, train_labels, epochs=2, validation_split=0.2, batch_size=32, callbacks=[es])\n",
        "\n",
        "# Plot training history\n",
        "plt.plot(history.history['accuracy'], label='Training Accuracy')\n",
        "plt.plot(history.history['val_accuracy'], label='Validation Accuracy')\n",
        "plt.xlabel('Epochs')\n",
        "plt.ylabel('Accuracy')\n",
        "plt.legend()\n",
        "plt.show()\n"
      ],
      "metadata": {
        "colab": {
          "base_uri": "https://localhost:8080/",
          "height": 1000
        },
        "id": "CPJjIpioVfhr",
        "outputId": "7a2c3a8b-7458-40da-c12e-50894711fd71"
      },
      "execution_count": 14,
      "outputs": [
        {
          "output_type": "stream",
          "name": "stdout",
          "text": [
            "Model: \"vgg16\"\n",
            "_________________________________________________________________\n",
            " Layer (type)                Output Shape              Param #   \n",
            "=================================================================\n",
            " input_2 (InputLayer)        [(None, 150, 150, 3)]     0         \n",
            "                                                                 \n",
            " block1_conv1 (Conv2D)       (None, 150, 150, 64)      1792      \n",
            "                                                                 \n",
            " block1_conv2 (Conv2D)       (None, 150, 150, 64)      36928     \n",
            "                                                                 \n",
            " block1_pool (MaxPooling2D)  (None, 75, 75, 64)        0         \n",
            "                                                                 \n",
            " block2_conv1 (Conv2D)       (None, 75, 75, 128)       73856     \n",
            "                                                                 \n",
            " block2_conv2 (Conv2D)       (None, 75, 75, 128)       147584    \n",
            "                                                                 \n",
            " block2_pool (MaxPooling2D)  (None, 37, 37, 128)       0         \n",
            "                                                                 \n",
            " block3_conv1 (Conv2D)       (None, 37, 37, 256)       295168    \n",
            "                                                                 \n",
            " block3_conv2 (Conv2D)       (None, 37, 37, 256)       590080    \n",
            "                                                                 \n",
            " block3_conv3 (Conv2D)       (None, 37, 37, 256)       590080    \n",
            "                                                                 \n",
            " block3_pool (MaxPooling2D)  (None, 18, 18, 256)       0         \n",
            "                                                                 \n",
            " block4_conv1 (Conv2D)       (None, 18, 18, 512)       1180160   \n",
            "                                                                 \n",
            " block4_conv2 (Conv2D)       (None, 18, 18, 512)       2359808   \n",
            "                                                                 \n",
            " block4_conv3 (Conv2D)       (None, 18, 18, 512)       2359808   \n",
            "                                                                 \n",
            " block4_pool (MaxPooling2D)  (None, 9, 9, 512)         0         \n",
            "                                                                 \n",
            " block5_conv1 (Conv2D)       (None, 9, 9, 512)         2359808   \n",
            "                                                                 \n",
            " block5_conv2 (Conv2D)       (None, 9, 9, 512)         2359808   \n",
            "                                                                 \n",
            " block5_conv3 (Conv2D)       (None, 9, 9, 512)         2359808   \n",
            "                                                                 \n",
            " block5_pool (MaxPooling2D)  (None, 4, 4, 512)         0         \n",
            "                                                                 \n",
            "=================================================================\n",
            "Total params: 14714688 (56.13 MB)\n",
            "Trainable params: 0 (0.00 Byte)\n",
            "Non-trainable params: 14714688 (56.13 MB)\n",
            "_________________________________________________________________\n",
            "Epoch 1/5\n",
            "65/65 [==============================] - 606s 9s/step - loss: 2.2818 - accuracy: 0.5426 - val_loss: 1.2901 - val_accuracy: 0.5914\n",
            "Epoch 2/5\n",
            "65/65 [==============================] - 606s 9s/step - loss: 0.7552 - accuracy: 0.7577 - val_loss: 1.0998 - val_accuracy: 0.6732\n",
            "Epoch 3/5\n",
            "65/65 [==============================] - 612s 9s/step - loss: 0.4620 - accuracy: 0.8307 - val_loss: 1.0456 - val_accuracy: 0.6673\n",
            "Epoch 4/5\n",
            "65/65 [==============================] - 603s 9s/step - loss: 0.3368 - accuracy: 0.8876 - val_loss: 1.0237 - val_accuracy: 0.6907\n",
            "Epoch 5/5\n",
            "65/65 [==============================] - 611s 9s/step - loss: 0.2389 - accuracy: 0.9275 - val_loss: 1.1206 - val_accuracy: 0.6751\n",
            "Epoch 1/5\n",
            "19/65 [=======>......................] - ETA: 5:43 - loss: 0.1659 - accuracy: 0.9408"
          ]
        },
        {
          "output_type": "error",
          "ename": "KeyboardInterrupt",
          "evalue": "ignored",
          "traceback": [
            "\u001b[0;31m---------------------------------------------------------------------------\u001b[0m",
            "\u001b[0;31mKeyboardInterrupt\u001b[0m                         Traceback (most recent call last)",
            "\u001b[0;32m<ipython-input-14-e9551baba04a>\u001b[0m in \u001b[0;36m<cell line: 55>\u001b[0;34m()\u001b[0m\n\u001b[1;32m     53\u001b[0m \u001b[0mmodel\u001b[0m\u001b[0;34m.\u001b[0m\u001b[0mfit\u001b[0m\u001b[0;34m(\u001b[0m\u001b[0mtrain_ds\u001b[0m\u001b[0;34m,\u001b[0m \u001b[0mtrain_labels\u001b[0m\u001b[0;34m,\u001b[0m \u001b[0mepochs\u001b[0m\u001b[0;34m=\u001b[0m\u001b[0;36m5\u001b[0m\u001b[0;34m,\u001b[0m \u001b[0mvalidation_split\u001b[0m\u001b[0;34m=\u001b[0m\u001b[0;36m0.2\u001b[0m\u001b[0;34m,\u001b[0m \u001b[0mbatch_size\u001b[0m\u001b[0;34m=\u001b[0m\u001b[0;36m32\u001b[0m\u001b[0;34m,\u001b[0m \u001b[0mcallbacks\u001b[0m\u001b[0;34m=\u001b[0m\u001b[0;34m[\u001b[0m\u001b[0mes\u001b[0m\u001b[0;34m]\u001b[0m\u001b[0;34m)\u001b[0m\u001b[0;34m\u001b[0m\u001b[0;34m\u001b[0m\u001b[0m\n\u001b[1;32m     54\u001b[0m \u001b[0;34m\u001b[0m\u001b[0m\n\u001b[0;32m---> 55\u001b[0;31m \u001b[0mhistory\u001b[0m \u001b[0;34m=\u001b[0m \u001b[0mmodel\u001b[0m\u001b[0;34m.\u001b[0m\u001b[0mfit\u001b[0m\u001b[0;34m(\u001b[0m\u001b[0mtrain_ds\u001b[0m\u001b[0;34m,\u001b[0m \u001b[0mtrain_labels\u001b[0m\u001b[0;34m,\u001b[0m \u001b[0mepochs\u001b[0m\u001b[0;34m=\u001b[0m\u001b[0;36m5\u001b[0m\u001b[0;34m,\u001b[0m \u001b[0mvalidation_split\u001b[0m\u001b[0;34m=\u001b[0m\u001b[0;36m0.2\u001b[0m\u001b[0;34m,\u001b[0m \u001b[0mbatch_size\u001b[0m\u001b[0;34m=\u001b[0m\u001b[0;36m32\u001b[0m\u001b[0;34m,\u001b[0m \u001b[0mcallbacks\u001b[0m\u001b[0;34m=\u001b[0m\u001b[0;34m[\u001b[0m\u001b[0mes\u001b[0m\u001b[0;34m]\u001b[0m\u001b[0;34m)\u001b[0m\u001b[0;34m\u001b[0m\u001b[0;34m\u001b[0m\u001b[0m\n\u001b[0m\u001b[1;32m     56\u001b[0m \u001b[0;34m\u001b[0m\u001b[0m\n\u001b[1;32m     57\u001b[0m \u001b[0;31m# Plot training history\u001b[0m\u001b[0;34m\u001b[0m\u001b[0;34m\u001b[0m\u001b[0m\n",
            "\u001b[0;32m/usr/local/lib/python3.10/dist-packages/keras/src/utils/traceback_utils.py\u001b[0m in \u001b[0;36merror_handler\u001b[0;34m(*args, **kwargs)\u001b[0m\n\u001b[1;32m     63\u001b[0m         \u001b[0mfiltered_tb\u001b[0m \u001b[0;34m=\u001b[0m \u001b[0;32mNone\u001b[0m\u001b[0;34m\u001b[0m\u001b[0;34m\u001b[0m\u001b[0m\n\u001b[1;32m     64\u001b[0m         \u001b[0;32mtry\u001b[0m\u001b[0;34m:\u001b[0m\u001b[0;34m\u001b[0m\u001b[0;34m\u001b[0m\u001b[0m\n\u001b[0;32m---> 65\u001b[0;31m             \u001b[0;32mreturn\u001b[0m \u001b[0mfn\u001b[0m\u001b[0;34m(\u001b[0m\u001b[0;34m*\u001b[0m\u001b[0margs\u001b[0m\u001b[0;34m,\u001b[0m \u001b[0;34m**\u001b[0m\u001b[0mkwargs\u001b[0m\u001b[0;34m)\u001b[0m\u001b[0;34m\u001b[0m\u001b[0;34m\u001b[0m\u001b[0m\n\u001b[0m\u001b[1;32m     66\u001b[0m         \u001b[0;32mexcept\u001b[0m \u001b[0mException\u001b[0m \u001b[0;32mas\u001b[0m \u001b[0me\u001b[0m\u001b[0;34m:\u001b[0m\u001b[0;34m\u001b[0m\u001b[0;34m\u001b[0m\u001b[0m\n\u001b[1;32m     67\u001b[0m             \u001b[0mfiltered_tb\u001b[0m \u001b[0;34m=\u001b[0m \u001b[0m_process_traceback_frames\u001b[0m\u001b[0;34m(\u001b[0m\u001b[0me\u001b[0m\u001b[0;34m.\u001b[0m\u001b[0m__traceback__\u001b[0m\u001b[0;34m)\u001b[0m\u001b[0;34m\u001b[0m\u001b[0;34m\u001b[0m\u001b[0m\n",
            "\u001b[0;32m/usr/local/lib/python3.10/dist-packages/keras/src/engine/training.py\u001b[0m in \u001b[0;36mfit\u001b[0;34m(self, x, y, batch_size, epochs, verbose, callbacks, validation_split, validation_data, shuffle, class_weight, sample_weight, initial_epoch, steps_per_epoch, validation_steps, validation_batch_size, validation_freq, max_queue_size, workers, use_multiprocessing)\u001b[0m\n\u001b[1;32m   1781\u001b[0m                         ):\n\u001b[1;32m   1782\u001b[0m                             \u001b[0mcallbacks\u001b[0m\u001b[0;34m.\u001b[0m\u001b[0mon_train_batch_begin\u001b[0m\u001b[0;34m(\u001b[0m\u001b[0mstep\u001b[0m\u001b[0;34m)\u001b[0m\u001b[0;34m\u001b[0m\u001b[0;34m\u001b[0m\u001b[0m\n\u001b[0;32m-> 1783\u001b[0;31m                             \u001b[0mtmp_logs\u001b[0m \u001b[0;34m=\u001b[0m \u001b[0mself\u001b[0m\u001b[0;34m.\u001b[0m\u001b[0mtrain_function\u001b[0m\u001b[0;34m(\u001b[0m\u001b[0miterator\u001b[0m\u001b[0;34m)\u001b[0m\u001b[0;34m\u001b[0m\u001b[0;34m\u001b[0m\u001b[0m\n\u001b[0m\u001b[1;32m   1784\u001b[0m                             \u001b[0;32mif\u001b[0m \u001b[0mdata_handler\u001b[0m\u001b[0;34m.\u001b[0m\u001b[0mshould_sync\u001b[0m\u001b[0;34m:\u001b[0m\u001b[0;34m\u001b[0m\u001b[0;34m\u001b[0m\u001b[0m\n\u001b[1;32m   1785\u001b[0m                                 \u001b[0mcontext\u001b[0m\u001b[0;34m.\u001b[0m\u001b[0masync_wait\u001b[0m\u001b[0;34m(\u001b[0m\u001b[0;34m)\u001b[0m\u001b[0;34m\u001b[0m\u001b[0;34m\u001b[0m\u001b[0m\n",
            "\u001b[0;32m/usr/local/lib/python3.10/dist-packages/tensorflow/python/util/traceback_utils.py\u001b[0m in \u001b[0;36merror_handler\u001b[0;34m(*args, **kwargs)\u001b[0m\n\u001b[1;32m    148\u001b[0m     \u001b[0mfiltered_tb\u001b[0m \u001b[0;34m=\u001b[0m \u001b[0;32mNone\u001b[0m\u001b[0;34m\u001b[0m\u001b[0;34m\u001b[0m\u001b[0m\n\u001b[1;32m    149\u001b[0m     \u001b[0;32mtry\u001b[0m\u001b[0;34m:\u001b[0m\u001b[0;34m\u001b[0m\u001b[0;34m\u001b[0m\u001b[0m\n\u001b[0;32m--> 150\u001b[0;31m       \u001b[0;32mreturn\u001b[0m \u001b[0mfn\u001b[0m\u001b[0;34m(\u001b[0m\u001b[0;34m*\u001b[0m\u001b[0margs\u001b[0m\u001b[0;34m,\u001b[0m \u001b[0;34m**\u001b[0m\u001b[0mkwargs\u001b[0m\u001b[0;34m)\u001b[0m\u001b[0;34m\u001b[0m\u001b[0;34m\u001b[0m\u001b[0m\n\u001b[0m\u001b[1;32m    151\u001b[0m     \u001b[0;32mexcept\u001b[0m \u001b[0mException\u001b[0m \u001b[0;32mas\u001b[0m \u001b[0me\u001b[0m\u001b[0;34m:\u001b[0m\u001b[0;34m\u001b[0m\u001b[0;34m\u001b[0m\u001b[0m\n\u001b[1;32m    152\u001b[0m       \u001b[0mfiltered_tb\u001b[0m \u001b[0;34m=\u001b[0m \u001b[0m_process_traceback_frames\u001b[0m\u001b[0;34m(\u001b[0m\u001b[0me\u001b[0m\u001b[0;34m.\u001b[0m\u001b[0m__traceback__\u001b[0m\u001b[0;34m)\u001b[0m\u001b[0;34m\u001b[0m\u001b[0;34m\u001b[0m\u001b[0m\n",
            "\u001b[0;32m/usr/local/lib/python3.10/dist-packages/tensorflow/python/eager/polymorphic_function/polymorphic_function.py\u001b[0m in \u001b[0;36m__call__\u001b[0;34m(self, *args, **kwds)\u001b[0m\n\u001b[1;32m    829\u001b[0m \u001b[0;34m\u001b[0m\u001b[0m\n\u001b[1;32m    830\u001b[0m       \u001b[0;32mwith\u001b[0m \u001b[0mOptionalXlaContext\u001b[0m\u001b[0;34m(\u001b[0m\u001b[0mself\u001b[0m\u001b[0;34m.\u001b[0m\u001b[0m_jit_compile\u001b[0m\u001b[0;34m)\u001b[0m\u001b[0;34m:\u001b[0m\u001b[0;34m\u001b[0m\u001b[0;34m\u001b[0m\u001b[0m\n\u001b[0;32m--> 831\u001b[0;31m         \u001b[0mresult\u001b[0m \u001b[0;34m=\u001b[0m \u001b[0mself\u001b[0m\u001b[0;34m.\u001b[0m\u001b[0m_call\u001b[0m\u001b[0;34m(\u001b[0m\u001b[0;34m*\u001b[0m\u001b[0margs\u001b[0m\u001b[0;34m,\u001b[0m \u001b[0;34m**\u001b[0m\u001b[0mkwds\u001b[0m\u001b[0;34m)\u001b[0m\u001b[0;34m\u001b[0m\u001b[0;34m\u001b[0m\u001b[0m\n\u001b[0m\u001b[1;32m    832\u001b[0m \u001b[0;34m\u001b[0m\u001b[0m\n\u001b[1;32m    833\u001b[0m       \u001b[0mnew_tracing_count\u001b[0m \u001b[0;34m=\u001b[0m \u001b[0mself\u001b[0m\u001b[0;34m.\u001b[0m\u001b[0mexperimental_get_tracing_count\u001b[0m\u001b[0;34m(\u001b[0m\u001b[0;34m)\u001b[0m\u001b[0;34m\u001b[0m\u001b[0;34m\u001b[0m\u001b[0m\n",
            "\u001b[0;32m/usr/local/lib/python3.10/dist-packages/tensorflow/python/eager/polymorphic_function/polymorphic_function.py\u001b[0m in \u001b[0;36m_call\u001b[0;34m(self, *args, **kwds)\u001b[0m\n\u001b[1;32m    865\u001b[0m       \u001b[0;31m# In this case we have created variables on the first call, so we run the\u001b[0m\u001b[0;34m\u001b[0m\u001b[0;34m\u001b[0m\u001b[0m\n\u001b[1;32m    866\u001b[0m       \u001b[0;31m# defunned version which is guaranteed to never create variables.\u001b[0m\u001b[0;34m\u001b[0m\u001b[0;34m\u001b[0m\u001b[0m\n\u001b[0;32m--> 867\u001b[0;31m       return tracing_compilation.call_function(\n\u001b[0m\u001b[1;32m    868\u001b[0m           \u001b[0margs\u001b[0m\u001b[0;34m,\u001b[0m \u001b[0mkwds\u001b[0m\u001b[0;34m,\u001b[0m \u001b[0mself\u001b[0m\u001b[0;34m.\u001b[0m\u001b[0m_no_variable_creation_config\u001b[0m\u001b[0;34m\u001b[0m\u001b[0;34m\u001b[0m\u001b[0m\n\u001b[1;32m    869\u001b[0m       )\n",
            "\u001b[0;32m/usr/local/lib/python3.10/dist-packages/tensorflow/python/eager/polymorphic_function/tracing_compilation.py\u001b[0m in \u001b[0;36mcall_function\u001b[0;34m(args, kwargs, tracing_options)\u001b[0m\n\u001b[1;32m    137\u001b[0m   \u001b[0mbound_args\u001b[0m \u001b[0;34m=\u001b[0m \u001b[0mfunction\u001b[0m\u001b[0;34m.\u001b[0m\u001b[0mfunction_type\u001b[0m\u001b[0;34m.\u001b[0m\u001b[0mbind\u001b[0m\u001b[0;34m(\u001b[0m\u001b[0;34m*\u001b[0m\u001b[0margs\u001b[0m\u001b[0;34m,\u001b[0m \u001b[0;34m**\u001b[0m\u001b[0mkwargs\u001b[0m\u001b[0;34m)\u001b[0m\u001b[0;34m\u001b[0m\u001b[0;34m\u001b[0m\u001b[0m\n\u001b[1;32m    138\u001b[0m   \u001b[0mflat_inputs\u001b[0m \u001b[0;34m=\u001b[0m \u001b[0mfunction\u001b[0m\u001b[0;34m.\u001b[0m\u001b[0mfunction_type\u001b[0m\u001b[0;34m.\u001b[0m\u001b[0munpack_inputs\u001b[0m\u001b[0;34m(\u001b[0m\u001b[0mbound_args\u001b[0m\u001b[0;34m)\u001b[0m\u001b[0;34m\u001b[0m\u001b[0;34m\u001b[0m\u001b[0m\n\u001b[0;32m--> 139\u001b[0;31m   return function._call_flat(  # pylint: disable=protected-access\n\u001b[0m\u001b[1;32m    140\u001b[0m       \u001b[0mflat_inputs\u001b[0m\u001b[0;34m,\u001b[0m \u001b[0mcaptured_inputs\u001b[0m\u001b[0;34m=\u001b[0m\u001b[0mfunction\u001b[0m\u001b[0;34m.\u001b[0m\u001b[0mcaptured_inputs\u001b[0m\u001b[0;34m\u001b[0m\u001b[0;34m\u001b[0m\u001b[0m\n\u001b[1;32m    141\u001b[0m   )\n",
            "\u001b[0;32m/usr/local/lib/python3.10/dist-packages/tensorflow/python/eager/polymorphic_function/concrete_function.py\u001b[0m in \u001b[0;36m_call_flat\u001b[0;34m(self, tensor_inputs, captured_inputs)\u001b[0m\n\u001b[1;32m   1262\u001b[0m         and executing_eagerly):\n\u001b[1;32m   1263\u001b[0m       \u001b[0;31m# No tape is watching; skip to running the function.\u001b[0m\u001b[0;34m\u001b[0m\u001b[0;34m\u001b[0m\u001b[0m\n\u001b[0;32m-> 1264\u001b[0;31m       \u001b[0;32mreturn\u001b[0m \u001b[0mself\u001b[0m\u001b[0;34m.\u001b[0m\u001b[0m_inference_function\u001b[0m\u001b[0;34m.\u001b[0m\u001b[0mflat_call\u001b[0m\u001b[0;34m(\u001b[0m\u001b[0margs\u001b[0m\u001b[0;34m)\u001b[0m\u001b[0;34m\u001b[0m\u001b[0;34m\u001b[0m\u001b[0m\n\u001b[0m\u001b[1;32m   1265\u001b[0m     forward_backward = self._select_forward_and_backward_functions(\n\u001b[1;32m   1266\u001b[0m         \u001b[0margs\u001b[0m\u001b[0;34m,\u001b[0m\u001b[0;34m\u001b[0m\u001b[0;34m\u001b[0m\u001b[0m\n",
            "\u001b[0;32m/usr/local/lib/python3.10/dist-packages/tensorflow/python/eager/polymorphic_function/atomic_function.py\u001b[0m in \u001b[0;36mflat_call\u001b[0;34m(self, args)\u001b[0m\n\u001b[1;32m    215\u001b[0m   \u001b[0;32mdef\u001b[0m \u001b[0mflat_call\u001b[0m\u001b[0;34m(\u001b[0m\u001b[0mself\u001b[0m\u001b[0;34m,\u001b[0m \u001b[0margs\u001b[0m\u001b[0;34m:\u001b[0m \u001b[0mSequence\u001b[0m\u001b[0;34m[\u001b[0m\u001b[0mcore\u001b[0m\u001b[0;34m.\u001b[0m\u001b[0mTensor\u001b[0m\u001b[0;34m]\u001b[0m\u001b[0;34m)\u001b[0m \u001b[0;34m->\u001b[0m \u001b[0mAny\u001b[0m\u001b[0;34m:\u001b[0m\u001b[0;34m\u001b[0m\u001b[0;34m\u001b[0m\u001b[0m\n\u001b[1;32m    216\u001b[0m     \u001b[0;34m\"\"\"Calls with tensor inputs and returns the structured output.\"\"\"\u001b[0m\u001b[0;34m\u001b[0m\u001b[0;34m\u001b[0m\u001b[0m\n\u001b[0;32m--> 217\u001b[0;31m     \u001b[0mflat_outputs\u001b[0m \u001b[0;34m=\u001b[0m \u001b[0mself\u001b[0m\u001b[0;34m(\u001b[0m\u001b[0;34m*\u001b[0m\u001b[0margs\u001b[0m\u001b[0;34m)\u001b[0m\u001b[0;34m\u001b[0m\u001b[0;34m\u001b[0m\u001b[0m\n\u001b[0m\u001b[1;32m    218\u001b[0m     \u001b[0;32mreturn\u001b[0m \u001b[0mself\u001b[0m\u001b[0;34m.\u001b[0m\u001b[0mfunction_type\u001b[0m\u001b[0;34m.\u001b[0m\u001b[0mpack_output\u001b[0m\u001b[0;34m(\u001b[0m\u001b[0mflat_outputs\u001b[0m\u001b[0;34m)\u001b[0m\u001b[0;34m\u001b[0m\u001b[0;34m\u001b[0m\u001b[0m\n\u001b[1;32m    219\u001b[0m \u001b[0;34m\u001b[0m\u001b[0m\n",
            "\u001b[0;32m/usr/local/lib/python3.10/dist-packages/tensorflow/python/eager/polymorphic_function/atomic_function.py\u001b[0m in \u001b[0;36m__call__\u001b[0;34m(self, *args)\u001b[0m\n\u001b[1;32m    250\u001b[0m         \u001b[0;32mwith\u001b[0m \u001b[0mrecord\u001b[0m\u001b[0;34m.\u001b[0m\u001b[0mstop_recording\u001b[0m\u001b[0;34m(\u001b[0m\u001b[0;34m)\u001b[0m\u001b[0;34m:\u001b[0m\u001b[0;34m\u001b[0m\u001b[0;34m\u001b[0m\u001b[0m\n\u001b[1;32m    251\u001b[0m           \u001b[0;32mif\u001b[0m \u001b[0mself\u001b[0m\u001b[0;34m.\u001b[0m\u001b[0m_bound_context\u001b[0m\u001b[0;34m.\u001b[0m\u001b[0mexecuting_eagerly\u001b[0m\u001b[0;34m(\u001b[0m\u001b[0;34m)\u001b[0m\u001b[0;34m:\u001b[0m\u001b[0;34m\u001b[0m\u001b[0;34m\u001b[0m\u001b[0m\n\u001b[0;32m--> 252\u001b[0;31m             outputs = self._bound_context.call_function(\n\u001b[0m\u001b[1;32m    253\u001b[0m                 \u001b[0mself\u001b[0m\u001b[0;34m.\u001b[0m\u001b[0mname\u001b[0m\u001b[0;34m,\u001b[0m\u001b[0;34m\u001b[0m\u001b[0;34m\u001b[0m\u001b[0m\n\u001b[1;32m    254\u001b[0m                 \u001b[0mlist\u001b[0m\u001b[0;34m(\u001b[0m\u001b[0margs\u001b[0m\u001b[0;34m)\u001b[0m\u001b[0;34m,\u001b[0m\u001b[0;34m\u001b[0m\u001b[0;34m\u001b[0m\u001b[0m\n",
            "\u001b[0;32m/usr/local/lib/python3.10/dist-packages/tensorflow/python/eager/context.py\u001b[0m in \u001b[0;36mcall_function\u001b[0;34m(self, name, tensor_inputs, num_outputs)\u001b[0m\n\u001b[1;32m   1477\u001b[0m     \u001b[0mcancellation_context\u001b[0m \u001b[0;34m=\u001b[0m \u001b[0mcancellation\u001b[0m\u001b[0;34m.\u001b[0m\u001b[0mcontext\u001b[0m\u001b[0;34m(\u001b[0m\u001b[0;34m)\u001b[0m\u001b[0;34m\u001b[0m\u001b[0;34m\u001b[0m\u001b[0m\n\u001b[1;32m   1478\u001b[0m     \u001b[0;32mif\u001b[0m \u001b[0mcancellation_context\u001b[0m \u001b[0;32mis\u001b[0m \u001b[0;32mNone\u001b[0m\u001b[0;34m:\u001b[0m\u001b[0;34m\u001b[0m\u001b[0;34m\u001b[0m\u001b[0m\n\u001b[0;32m-> 1479\u001b[0;31m       outputs = execute.execute(\n\u001b[0m\u001b[1;32m   1480\u001b[0m           \u001b[0mname\u001b[0m\u001b[0;34m.\u001b[0m\u001b[0mdecode\u001b[0m\u001b[0;34m(\u001b[0m\u001b[0;34m\"utf-8\"\u001b[0m\u001b[0;34m)\u001b[0m\u001b[0;34m,\u001b[0m\u001b[0;34m\u001b[0m\u001b[0;34m\u001b[0m\u001b[0m\n\u001b[1;32m   1481\u001b[0m           \u001b[0mnum_outputs\u001b[0m\u001b[0;34m=\u001b[0m\u001b[0mnum_outputs\u001b[0m\u001b[0;34m,\u001b[0m\u001b[0;34m\u001b[0m\u001b[0;34m\u001b[0m\u001b[0m\n",
            "\u001b[0;32m/usr/local/lib/python3.10/dist-packages/tensorflow/python/eager/execute.py\u001b[0m in \u001b[0;36mquick_execute\u001b[0;34m(op_name, num_outputs, inputs, attrs, ctx, name)\u001b[0m\n\u001b[1;32m     58\u001b[0m         \u001b[0;32mfor\u001b[0m \u001b[0mt\u001b[0m \u001b[0;32min\u001b[0m \u001b[0minputs\u001b[0m\u001b[0;34m\u001b[0m\u001b[0;34m\u001b[0m\u001b[0m\n\u001b[1;32m     59\u001b[0m     ]\n\u001b[0;32m---> 60\u001b[0;31m     tensors = pywrap_tfe.TFE_Py_Execute(ctx._handle, device_name, op_name,\n\u001b[0m\u001b[1;32m     61\u001b[0m                                         inputs, attrs, num_outputs)\n\u001b[1;32m     62\u001b[0m   \u001b[0;32mexcept\u001b[0m \u001b[0mcore\u001b[0m\u001b[0;34m.\u001b[0m\u001b[0m_NotOkStatusException\u001b[0m \u001b[0;32mas\u001b[0m \u001b[0me\u001b[0m\u001b[0;34m:\u001b[0m\u001b[0;34m\u001b[0m\u001b[0;34m\u001b[0m\u001b[0m\n",
            "\u001b[0;31mKeyboardInterrupt\u001b[0m: "
          ]
        }
      ]
    },
    {
      "cell_type": "code",
      "source": [],
      "metadata": {
        "id": "--vq4O0TXU_R"
      },
      "execution_count": 12,
      "outputs": []
    }
  ],
  "metadata": {
    "colab": {
      "provenance": []
    },
    "kernelspec": {
      "display_name": "Python 3",
      "name": "python3"
    },
    "language_info": {
      "name": "python"
    }
  },
  "nbformat": 4,
  "nbformat_minor": 0
}