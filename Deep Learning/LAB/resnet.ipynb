{
  "nbformat": 4,
  "nbformat_minor": 0,
  "metadata": {
    "colab": {
      "provenance": []
    },
    "kernelspec": {
      "name": "python3",
      "display_name": "Python 3"
    },
    "language_info": {
      "name": "python"
    }
  },
  "cells": [
    {
      "cell_type": "code",
      "execution_count": null,
      "metadata": {
        "colab": {
          "base_uri": "https://localhost:8080/"
        },
        "id": "_cMQVtl0jN8N",
        "outputId": "63268c27-ebd0-4f00-b041-b5df52b82a0e"
      },
      "outputs": [
        {
          "output_type": "stream",
          "name": "stdout",
          "text": [
            "Downloading data from https://www.cs.toronto.edu/~kriz/cifar-10-python.tar.gz\n",
            "170498071/170498071 [==============================] - 3s 0us/step\n",
            "Epoch 1/2\n",
            "316/782 [===========>..................] - ETA: 8:52 - loss: 1.5556 - accuracy: 0.4335"
          ]
        }
      ],
      "source": [
        "import tensorflow as tf\n",
        "from tensorflow.keras.datasets import cifar10\n",
        "from tensorflow.keras.layers import Conv2D, BatchNormalization, Activation, Add, GlobalAveragePooling2D, Dense\n",
        "from tensorflow.keras import Input, Model\n",
        "\n",
        "# Load CIFAR-10 data\n",
        "(train_images, train_labels), (test_images, test_labels) = cifar10.load_data()\n",
        "\n",
        "# Preprocess data\n",
        "train_images = train_images.astype('float32') / 255.0\n",
        "test_images = test_images.astype('float32') / 255.0\n",
        "train_labels = tf.keras.utils.to_categorical(train_labels, 10)\n",
        "test_labels = tf.keras.utils.to_categorical(test_labels, 10)\n",
        "\n",
        "def resnet_block(X, filters, stride=1):\n",
        "    F1, F2 = filters\n",
        "\n",
        "    X_shortcut = X\n",
        "\n",
        "    # First component of main path\n",
        "    X = Conv2D(F1, kernel_size=(3, 3), strides=(stride, stride), padding='same')(X)\n",
        "    X = BatchNormalization(axis=3)(X)\n",
        "    X = Activation('relu')(X)\n",
        "\n",
        "    # Second component of main path\n",
        "    X = Conv2D(F2, kernel_size=(3, 3), strides=(1, 1), padding='same')(X)\n",
        "    X = BatchNormalization(axis=3)(X)\n",
        "\n",
        "    # Shortcut path\n",
        "    if stride != 1 or X.shape[-1] != F2:\n",
        "        X_shortcut = Conv2D(F2, kernel_size=(1, 1), strides=(stride, stride), padding='valid')(X_shortcut)\n",
        "        X_shortcut = BatchNormalization(axis=3)(X_shortcut)\n",
        "\n",
        "    # Add shortcut value to main path\n",
        "    X = Add()([X, X_shortcut])\n",
        "    X = Activation('relu')(X)\n",
        "\n",
        "    return X\n",
        "\n",
        "# ResNet model\n",
        "input_shape = (32, 32, 3)\n",
        "input_X = Input(shape=input_shape)\n",
        "\n",
        "X = Conv2D(64, (7, 7), strides=(2, 2), padding='same')(input_X)\n",
        "X = BatchNormalization(axis=3)(X)\n",
        "X = Activation('relu')(X)\n",
        "\n",
        "X = resnet_block(X, filters=[64, 64])\n",
        "X = resnet_block(X, filters=[64, 64])\n",
        "X = resnet_block(X, filters=[128, 128], stride=2)\n",
        "X = resnet_block(X, filters=[128, 128])\n",
        "X = resnet_block(X, filters=[256, 256], stride=2)\n",
        "X = resnet_block(X, filters=[256, 256])\n",
        "X = GlobalAveragePooling2D()(X)\n",
        "X = Dense(10, activation='softmax')(X)\n",
        "\n",
        "model = Model(inputs=input_X, outputs=X)\n",
        "\n",
        "# Compile the model\n",
        "model.compile(optimizer='adam', loss='categorical_crossentropy', metrics=['accuracy'])\n",
        "\n",
        "# Train the model\n",
        "model.fit(train_images, train_labels, epochs=2, batch_size=64, validation_data=(test_images, test_labels))\n",
        "\n",
        "# Evaluate the model on test data\n",
        "loss, accuracy = model.evaluate(test_images, test_labels)\n",
        "print(f\"Test accuracy: {accuracy * 100:.2f}%\")"
      ]
    },
    {
      "cell_type": "code",
      "source": [],
      "metadata": {
        "id": "Ha3cKEMFjQjP"
      },
      "execution_count": null,
      "outputs": []
    }
  ]
}